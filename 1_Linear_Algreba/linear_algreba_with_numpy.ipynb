{
 "cells": [
  {
   "cell_type": "markdown",
   "metadata": {},
   "source": [
    "# 1. Vector"
   ]
  },
  {
   "cell_type": "code",
   "execution_count": 1,
   "metadata": {},
   "outputs": [
    {
     "data": {
      "text/plain": [
       "ThemeRegistry.enable('dark')"
      ]
     },
     "execution_count": 1,
     "metadata": {},
     "output_type": "execute_result"
    }
   ],
   "source": [
    "import numpy as np\n",
    "import pandas as pd\n",
    "import altair as alt\n",
    "alt.themes.enable('dark')"
   ]
  },
  {
   "cell_type": "code",
   "execution_count": 2,
   "metadata": {},
   "outputs": [],
   "source": [
    "# 3-dimentional vector\n",
    "x = np.array([[1],\n",
    "              [2],\n",
    "              [3]])"
   ]
  },
  {
   "cell_type": "code",
   "execution_count": 3,
   "metadata": {},
   "outputs": [
    {
     "data": {
      "text/plain": [
       "(3, 1)"
      ]
     },
     "execution_count": 3,
     "metadata": {},
     "output_type": "execute_result"
    }
   ],
   "source": [
    "x.shape"
   ]
  },
  {
   "cell_type": "markdown",
   "metadata": {},
   "source": [
    "### Add vector"
   ]
  },
  {
   "cell_type": "code",
   "execution_count": 4,
   "metadata": {},
   "outputs": [
    {
     "data": {
      "text/plain": [
       "array([[2],\n",
       "       [4],\n",
       "       [6]])"
      ]
     },
     "execution_count": 4,
     "metadata": {},
     "output_type": "execute_result"
    }
   ],
   "source": [
    "# Add vector\n",
    "x = y = np.array([[1],\n",
    "                 [2],\n",
    "                 [3]])\n",
    "\n",
    "x+y"
   ]
  },
  {
   "cell_type": "code",
   "execution_count": 5,
   "metadata": {},
   "outputs": [
    {
     "data": {
      "text/plain": [
       "array([[2],\n",
       "       [4],\n",
       "       [6]])"
      ]
     },
     "execution_count": 5,
     "metadata": {},
     "output_type": "execute_result"
    }
   ],
   "source": [
    "np.add(x,y)"
   ]
  },
  {
   "cell_type": "markdown",
   "metadata": {},
   "source": [
    "### Vector-scalar multiplication"
   ]
  },
  {
   "cell_type": "code",
   "execution_count": 6,
   "metadata": {},
   "outputs": [
    {
     "data": {
      "text/plain": [
       "array([[2],\n",
       "       [4],\n",
       "       [6]])"
      ]
     },
     "execution_count": 6,
     "metadata": {},
     "output_type": "execute_result"
    }
   ],
   "source": [
    "alpha = 2\n",
    "x = np.array([[1],\n",
    "              [2],\n",
    "              [3]])\n",
    "\n",
    "alpha * x"
   ]
  },
  {
   "cell_type": "markdown",
   "metadata": {},
   "source": [
    "### Vector-vector multiplication (dot product)\n",
    "$ x \\cdot y = \\begin{bmatrix} x_1 \\\\ x_2 \\end{bmatrix}^T \\begin{bmatrix} y_1 \\\\ y_2 \\end{bmatrix} = x_1 \\times y_1 + x_2 \\times y_2$\n"
   ]
  },
  {
   "cell_type": "code",
   "execution_count": 7,
   "metadata": {},
   "outputs": [
    {
     "data": {
      "text/plain": [
       "array([[-14]])"
      ]
     },
     "execution_count": 7,
     "metadata": {},
     "output_type": "execute_result"
    }
   ],
   "source": [
    "x = np.array([[-2],\n",
    "              [2]])\n",
    "y = np.array([[4],\n",
    "              [-3]])\n",
    "\n",
    "np.matmul(x.T, y)   # dot product\n",
    "x.T @ y             # dot product"
   ]
  },
  {
   "cell_type": "markdown",
   "metadata": {},
   "source": [
    "### Matrix - matrix multiplication (dot product)\n",
    "$ A \\cdot B $"
   ]
  },
  {
   "cell_type": "code",
   "execution_count": 51,
   "metadata": {},
   "outputs": [],
   "source": [
    "A = np.array([[0,2],\n",
    "              [1,4]])\n",
    "\n",
    "B = np.array([[1,3],\n",
    "              [2,1]])"
   ]
  },
  {
   "cell_type": "code",
   "execution_count": 54,
   "metadata": {},
   "outputs": [
    {
     "data": {
      "text/plain": [
       "array([[4, 2],\n",
       "       [9, 7]])"
      ]
     },
     "execution_count": 54,
     "metadata": {},
     "output_type": "execute_result"
    }
   ],
   "source": [
    "np.dot(A, B) # dot product\n",
    "A @ B        # dot product"
   ]
  },
  {
   "cell_type": "markdown",
   "metadata": {},
   "source": [
    "### Matrix inverse (reciprocal)\n",
    "$ x^{-1} $ or $ \\frac{1}{x} $"
   ]
  },
  {
   "cell_type": "markdown",
   "metadata": {},
   "source": [
    "# 2. Vector space, span, and subspace"
   ]
  },
  {
   "cell_type": "markdown",
   "metadata": {},
   "source": [
    "Have 8 rules\n",
    "\n",
    "1. commutativity: $x+y=y+x$\n",
    "2. associativity: $x+(y+x)=(y+x)+z$\n",
    "3. unique zero vector such that: $x+0=x ∀ x$\n",
    "4. ∀ x there is a unique vector x such that $x+−x=0$\n",
    "5. identity element of scalar multiplication: $1x=x$\n",
    "6. distributivity of scalar multiplication w.r.t vector addition: $x(y+z)=xz+zy$\n",
    "7. $x(yz)=(xy)z$\n",
    "8. $(y+z)x=yx+zx$\n"
   ]
  },
  {
   "cell_type": "markdown",
   "metadata": {},
   "source": [
    "### Euclidean norm (L2)\n",
    "\n",
    "1-Dimentions : $ ||x||_2 := \\sqrt{x^Tx} $  \n",
    "  \n",
    "2-Dimentions : $ ||x||_2 := \\sqrt{x_1^2 \\cdot x_2^2} $  "
   ]
  },
  {
   "cell_type": "code",
   "execution_count": 8,
   "metadata": {},
   "outputs": [
    {
     "data": {
      "text/plain": [
       "5.0"
      ]
     },
     "execution_count": 8,
     "metadata": {},
     "output_type": "execute_result"
    }
   ],
   "source": [
    "x = np.array([[3], [-4]])\n",
    "np.linalg.norm(x)"
   ]
  },
  {
   "cell_type": "markdown",
   "metadata": {},
   "source": [
    "### Manhattan norm (L1)  \n",
    "$ ||x||_1 := \\Sigma^n_{i=1}{|x_i|} $"
   ]
  },
  {
   "cell_type": "code",
   "execution_count": 9,
   "metadata": {},
   "outputs": [
    {
     "data": {
      "text/plain": [
       "7.0"
      ]
     },
     "execution_count": 9,
     "metadata": {},
     "output_type": "execute_result"
    }
   ],
   "source": [
    "x = np.array([[3], [-4]])\n",
    "\n",
    "np.linalg.norm(x, 1)"
   ]
  },
  {
   "cell_type": "markdown",
   "metadata": {},
   "source": [
    "### Max norm\n",
    "$||x||_\\infty := max_i |x_i|$"
   ]
  },
  {
   "cell_type": "code",
   "execution_count": 10,
   "metadata": {},
   "outputs": [
    {
     "data": {
      "text/plain": [
       "4.0"
      ]
     },
     "execution_count": 10,
     "metadata": {},
     "output_type": "execute_result"
    }
   ],
   "source": [
    "x = np.array([[3], [-4]])\n",
    "\n",
    "np.linalg.norm(x, np.inf)"
   ]
  },
  {
   "cell_type": "markdown",
   "metadata": {},
   "source": [
    "# 3. System of linear equations"
   ]
  },
  {
   "cell_type": "markdown",
   "metadata": {},
   "source": [
    "# 4. Visulized Vector"
   ]
  },
  {
   "cell_type": "code",
   "execution_count": 11,
   "metadata": {},
   "outputs": [],
   "source": [
    "import matplotlib.pyplot as plt"
   ]
  },
  {
   "cell_type": "code",
   "execution_count": 29,
   "metadata": {},
   "outputs": [
    {
     "data": {
      "image/png": "[encoded data removed]",
      "text/plain": [
       "<Figure size 432x288 with 1 Axes>"
      ]
     },
     "metadata": {
      "needs_background": "light"
     },
     "output_type": "display_data"
    }
   ],
   "source": [
    "V = np.array([[1,1], [-2,2], [4, -2]])\n",
    "origin = np.array([[0,0,0], [0,0,0]])\n",
    "\n",
    "plt.quiver(*origin, V[:, 0], V[:, 1], color=['r','b','g'], scale=1)\n",
    "plt.xlim([-100, 100])\n",
    "plt.ylim([-100, 100])\n",
    "plt.grid()\n",
    "plt.show()"
   ]
  },
  {
   "cell_type": "markdown",
   "metadata": {},
   "source": [
    "# 5. Example of linear mappings  \n",
    "dot product are linear mappings"
   ]
  },
  {
   "cell_type": "markdown",
   "metadata": {},
   "source": [
    "### 5.1 Negation Matrix\n",
    "return the opposite sign of each element of a vector  \n",
    "define as $ T: = A := -T $"
   ]
  },
  {
   "cell_type": "code",
   "execution_count": 42,
   "metadata": {},
   "outputs": [],
   "source": [
    "x = np.array([[-1],\n",
    "             [0],\n",
    "             [1]])\n",
    "\n",
    "y = np.array([[-3],\n",
    "             [0],\n",
    "             [2]])\n",
    "\n",
    "# Negotion Matrix\n",
    "T = np.array([[-1,0,0],\n",
    "              [0,-1,0],\n",
    "              [0,0,-1]])"
   ]
  },
  {
   "cell_type": "markdown",
   "metadata": {},
   "source": [
    "$ T(x + y) = T (x) + T (y) $"
   ]
  },
  {
   "cell_type": "code",
   "execution_count": 35,
   "metadata": {},
   "outputs": [
    {
     "name": "stdout",
     "output_type": "stream",
     "text": [
      "left:\n",
      " [[ 4]\n",
      " [ 0]\n",
      " [-3]]\n",
      "right:\n",
      " [[ 4]\n",
      " [ 0]\n",
      " [-3]]\n"
     ]
    }
   ],
   "source": [
    "left_1 = T @ (x + y)\n",
    "right_1 = (T @ x) + (T @ y)\n",
    "print('left:\\n', left_1)\n",
    "print('right:\\n', right_1)"
   ]
  },
  {
   "cell_type": "markdown",
   "metadata": {},
   "source": [
    "Check the properties $ T (\\alpha x) = \\alpha T(x), \\forall \\alpha $  \n",
    "given $ \\alpha = 2 $  "
   ]
  },
  {
   "cell_type": "code",
   "execution_count": 41,
   "metadata": {},
   "outputs": [
    {
     "name": "stdout",
     "output_type": "stream",
     "text": [
      "left:\n",
      "[[ 2]\n",
      " [ 0]\n",
      " [-2]]\n",
      "right:\n",
      "[[ 2]\n",
      " [ 0]\n",
      " [-2]]\n"
     ]
    }
   ],
   "source": [
    "alpha = 2\n",
    "left_2 = T @ (alpha * x)\n",
    "right_2 = alpha * T @ x\n",
    "\n",
    "print(\"left:\\n{}\".format(left_2))\n",
    "print(\"right:\\n{}\".format(right_2))"
   ]
  },
  {
   "cell_type": "markdown",
   "metadata": {},
   "source": [
    "### 5.2 Reversal matrix  \n",
    "return reverse of order of the elements of a vector  \n",
    "actually **BACKWARDS IDENTITY MATRIX**  \n",
    "\n",
    "$ T: = \\begin{bmatrix} \n",
    "0 & 0 & 1\\\\\n",
    "0 & 1 & 0\\\\\n",
    "1 & 0 & 0\n",
    "\\end{bmatrix} $"
   ]
  },
  {
   "cell_type": "code",
   "execution_count": 43,
   "metadata": {},
   "outputs": [],
   "source": [
    "x = np.array([[-1],\n",
    "              [0],\n",
    "              [1]])\n",
    "\n",
    "y = np.array([[-3],\n",
    "              [0],\n",
    "              [2]])\n",
    "\n",
    "T = np.array([[0,0,1],\n",
    "              [0,1,0],\n",
    "              [1,0,0]])"
   ]
  },
  {
   "cell_type": "markdown",
   "metadata": {},
   "source": [
    "First test $ T(x+y) = T(x) + T(y) $"
   ]
  },
  {
   "cell_type": "code",
   "execution_count": 49,
   "metadata": {},
   "outputs": [
    {
     "name": "stdout",
     "output_type": "stream",
     "text": [
      "x_reversal:\n",
      " [[ 1]\n",
      " [ 0]\n",
      " [-1]]\n",
      "EQN\n",
      "[[ 3]\n",
      " [ 0]\n",
      " [-4]]\n",
      "=\n",
      "[[ 3]\n",
      " [ 0]\n",
      " [-4]]\n"
     ]
    }
   ],
   "source": [
    "x_reversal = T @ x\n",
    "y_reversal = T @ y\n",
    "left_1 = T @ (x + y)\n",
    "right_1 = (T@x) + (T@y)\n",
    "\n",
    "print('x_reversal:\\n', x_reversal)\n",
    "print(\"EQN\")\n",
    "print(\"{}\\n=\\n{}\".format(left_1, right_1))\n"
   ]
  },
  {
   "cell_type": "code",
   "execution_count": null,
   "metadata": {},
   "outputs": [],
   "source": []
  }
 ],
 "metadata": {
  "kernelspec": {
   "display_name": "Python 3.9.12 ('arv')",
   "language": "python",
   "name": "python3"
  },
  "language_info": {
   "codemirror_mode": {
    "name": "ipython",
    "version": 3
   },
   "file_extension": ".py",
   "mimetype": "text/x-python",
   "name": "python",
   "nbconvert_exporter": "python",
   "pygments_lexer": "ipython3",
   "version": "3.9.12"
  },
  "orig_nbformat": 4,
  "vscode": {
   "interpreter": {
    "hash": "21af39a0669e9d03e47330a5aa3add3d60807b9f6d0afb0e9c6156df35963a1a"
   }
  }
 },
 "nbformat": 4,
 "nbformat_minor": 2
}
